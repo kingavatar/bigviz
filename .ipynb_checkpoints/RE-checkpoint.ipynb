{
 "cells": [
  {
   "cell_type": "code",
   "execution_count": 1,
   "id": "successful-cathedral",
   "metadata": {},
   "outputs": [
    {
     "name": "stdout",
     "output_type": "stream",
     "text": [
      "Pyspark RE\n"
     ]
    }
   ],
   "source": [
    "!echo 'Pyspark RE'"
   ]
  },
  {
   "cell_type": "code",
   "execution_count": 2,
   "id": "static-candle",
   "metadata": {},
   "outputs": [],
   "source": [
    "import findspark\n",
    "findspark.init(\"/home/saikiran/tools/spark\")"
   ]
  },
  {
   "cell_type": "code",
   "execution_count": 1,
   "id": "precise-genealogy",
   "metadata": {},
   "outputs": [
    {
     "ename": "ModuleNotFoundError",
     "evalue": "No module named 'pyspark'",
     "output_type": "error",
     "traceback": [
      "\u001b[0;31m---------------------------------------------------------------------------\u001b[0m",
      "\u001b[0;31mModuleNotFoundError\u001b[0m                       Traceback (most recent call last)",
      "\u001b[0;32m<ipython-input-1-6008e35bca45>\u001b[0m in \u001b[0;36m<module>\u001b[0;34m\u001b[0m\n\u001b[0;32m----> 1\u001b[0;31m \u001b[0;32mimport\u001b[0m \u001b[0mpyspark\u001b[0m\u001b[0;34m\u001b[0m\u001b[0;34m\u001b[0m\u001b[0m\n\u001b[0m\u001b[1;32m      2\u001b[0m \u001b[0;32mimport\u001b[0m \u001b[0mpandas\u001b[0m \u001b[0;32mas\u001b[0m \u001b[0mpd\u001b[0m\u001b[0;34m\u001b[0m\u001b[0;34m\u001b[0m\u001b[0m\n",
      "\u001b[0;31mModuleNotFoundError\u001b[0m: No module named 'pyspark'"
     ]
    }
   ],
   "source": [
    "import pyspark"
   ]
  },
  {
   "cell_type": "code",
   "execution_count": 2,
   "id": "decimal-retention",
   "metadata": {},
   "outputs": [],
   "source": [
    "import pandas as pd"
   ]
  },
  {
   "cell_type": "code",
   "execution_count": 4,
   "id": "stylish-clock",
   "metadata": {},
   "outputs": [],
   "source": [
    "conf = pyspark.SparkConf().setMaster('spark://localhost:7077').setAppName(\"Big Data Visualization\").set(\"spark.sql.execution.arrow.pyspark.enabled\", \"true\").set('spark.executor.memory','10g').set('spark.driver.memory','20g').set(\"spark.driver.maxResultSize\",0)\n",
    "# .set(\"spark.executor.memory\", \"20GB\").set(\"spark.driver.memory\", \"9g\")\n",
    "# .set(\"spark.shuffle.service.enabled\", \"false\")\n",
    "# .set(\"spark.dynamicAllocation.enabled\", \"false\")"
   ]
  },
  {
   "cell_type": "code",
   "execution_count": 5,
   "id": "homeless-halloween",
   "metadata": {},
   "outputs": [],
   "source": [
    "sc = pyspark.SparkContext()\n",
    "sc.setLogLevel('ERROR')"
   ]
  },
  {
   "cell_type": "code",
   "execution_count": 6,
   "id": "labeled-trade",
   "metadata": {},
   "outputs": [],
   "source": [
    "sql = pyspark.SQLContext(sc)"
   ]
  },
  {
   "cell_type": "code",
   "execution_count": 7,
   "id": "reserved-hybrid",
   "metadata": {},
   "outputs": [],
   "source": [
    "df = sql.read.csv(\"./feb03.csv\", sep='\\t', header = True)"
   ]
  },
  {
   "cell_type": "code",
   "execution_count": 3,
   "id": "distributed-diabetes",
   "metadata": {},
   "outputs": [],
   "source": [
    "pdf = pd.read_csv(\"./feb03.csv\", sep='\\t',error_bad_lines=False,parse_dates=[['date', 'hour']])"
   ]
  },
  {
   "cell_type": "code",
   "execution_count": 4,
   "id": "finished-parish",
   "metadata": {},
   "outputs": [
    {
     "data": {
      "text/plain": [
       "Index(['date_hour', 'lat', 'long', 'signal', 'network', 'operator', 'status',\n",
       "       'description', 'net', 'speed', 'satellites', 'precission', 'provider',\n",
       "       'activity', 'downloadSpeed', 'uploadSpeed', 'postal_code', 'town_name',\n",
       "       'position_geom'],\n",
       "      dtype='object')"
      ]
     },
     "execution_count": 4,
     "metadata": {},
     "output_type": "execute_result"
    }
   ],
   "source": [
    "pdf.columns"
   ]
  },
  {
   "cell_type": "code",
   "execution_count": 10,
   "id": "rural-england",
   "metadata": {},
   "outputs": [
    {
     "name": "stdout",
     "output_type": "stream",
     "text": [
      "+----------+--------+--------+-------+------+--------+---------+------+----------------+----+-----+----------+----------+--------+--------+-------------+-----------+-----------+--------------------+-----------------------+\n",
      "|date      |hour    |lat     |long   |signal|network |operator |status|description     |net |speed|satellites|precission|provider|activity|downloadSpeed|uploadSpeed|postal_code|town_name           |position_geom          |\n",
      "+----------+--------+--------+-------+------+--------+---------+------+----------------+----+-----+----------+----------+--------+--------+-------------+-----------+-----------+--------------------+-----------------------+\n",
      "|2017-12-10|13:03:12|41.29152|2.07456|10    |simyo 3g|simyo    |0     |STATE_IN_SERVICE|null|0.2  |10.0      |15.0      |gps     |STILL   |null         |null       |081691     |el Prat de Llobregat|POINT(2.07456 41.29152)|\n",
      "|2017-12-10|00:35:22|41.49925|2.34666|17    |orange  |Orange   |0     |STATE_IN_SERVICE|null|0.6  |5.0       |7.0       |gps     |STILL   |null         |null       |082303     |Premià de Dalt      |POINT(2.34666 41.49925)|\n",
      "|2017-12-10|12:14:37|41.61012|2.08711|3     |movistar|Movistar |0     |STATE_IN_SERVICE|2G  |0.0  |3.0       |48.0      |gps     |STILL   |null         |null       |080517     |Castellar del Vallès|POINT(2.08711 41.61012)|\n",
      "|2017-12-10|12:15:11|41.61065|2.08791|3     |movistar|Movistar |0     |STATE_IN_SERVICE|2G  |9.3  |2.0       |128.0     |gps     |STILL   |null         |null       |080517     |Castellar del Vallès|POINT(2.08791 41.61065)|\n",
      "|2017-12-10|09:47:15|42.12258|2.34321|7     |orange  |Orange SP|0     |STATE_IN_SERVICE|2G  |0.5  |1.0       |25.0      |gps     |STILL   |null         |null       |172121     |Vidrà               |POINT(2.34321 42.12258)|\n",
      "+----------+--------+--------+-------+------+--------+---------+------+----------------+----+-----+----------+----------+--------+--------+-------------+-----------+-----------+--------------------+-----------------------+\n",
      "only showing top 5 rows\n",
      "\n"
     ]
    }
   ],
   "source": [
    "df.show(5,False)"
   ]
  },
  {
   "cell_type": "code",
   "execution_count": 11,
   "id": "returning-aggregate",
   "metadata": {},
   "outputs": [
    {
     "name": "stdout",
     "output_type": "stream",
     "text": [
      "10g\n"
     ]
    }
   ],
   "source": [
    "print(sc._conf.get('spark.driver.memory'))"
   ]
  },
  {
   "cell_type": "code",
   "execution_count": null,
   "id": "detailed-respect",
   "metadata": {},
   "outputs": [],
   "source": [
    "from arcgis.gis import GIS\n",
    "my_gis = GIS()\n",
    "m = my_gis.map(\"Catalonia\")\n",
    "# m.time_slider=True"
   ]
  },
  {
   "cell_type": "code",
   "execution_count": null,
   "id": "alpha-recruitment",
   "metadata": {},
   "outputs": [],
   "source": [
    "pdf.head()"
   ]
  },
  {
   "cell_type": "code",
   "execution_count": null,
   "id": "dominican-porcelain",
   "metadata": {},
   "outputs": [],
   "source": [
    "pdf.info()"
   ]
  },
  {
   "cell_type": "code",
   "execution_count": null,
   "id": "useful-rwanda",
   "metadata": {},
   "outputs": [],
   "source": [
    "pdf = pd.DataFrame.spatial.from_xy(pdf[:100], x_column = 'long', y_column = 'lat')"
   ]
  },
  {
   "cell_type": "code",
   "execution_count": null,
   "id": "accompanied-victorian",
   "metadata": {},
   "outputs": [],
   "source": [
    "pdf.iloc[[0,-1]]"
   ]
  },
  {
   "cell_type": "code",
   "execution_count": null,
   "id": "wired-discipline",
   "metadata": {},
   "outputs": [],
   "source": [
    "m.time_slider=True\n",
    "m.set_time_extent(pdf['date_hour'].iloc[0],pdf['date_hour'].iloc[-1],unit=\"minutes\")\n",
    "m.time_mode=\"instant\""
   ]
  },
  {
   "cell_type": "code",
   "execution_count": null,
   "id": "divine-citizenship",
   "metadata": {},
   "outputs": [],
   "source": [
    "# Plot dataframe\n",
    "pdf.spatial.plot(map_widget= m)"
   ]
  },
  {
   "cell_type": "code",
   "execution_count": null,
   "id": "accepted-recorder",
   "metadata": {},
   "outputs": [],
   "source": [
    "m"
   ]
  },
  {
   "cell_type": "code",
   "execution_count": null,
   "id": "charming-balloon",
   "metadata": {},
   "outputs": [],
   "source": [
    "sc.stop()"
   ]
  },
  {
   "cell_type": "code",
   "execution_count": null,
   "id": "distant-diagram",
   "metadata": {},
   "outputs": [],
   "source": []
  }
 ],
 "metadata": {
  "kernelspec": {
   "display_name": "Python 3",
   "language": "python",
   "name": "python3"
  },
  "language_info": {
   "codemirror_mode": {
    "name": "ipython",
    "version": 3
   },
   "file_extension": ".py",
   "mimetype": "text/x-python",
   "name": "python",
   "nbconvert_exporter": "python",
   "pygments_lexer": "ipython3",
   "version": "3.9.2"
  }
 },
 "nbformat": 4,
 "nbformat_minor": 5
}
