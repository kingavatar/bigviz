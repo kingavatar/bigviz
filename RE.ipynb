{
 "cells": [
  {
   "cell_type": "code",
   "execution_count": null,
   "id": "successful-cathedral",
   "metadata": {},
   "outputs": [],
   "source": [
    "!echo 'Pyspark RE'"
   ]
  },
  {
   "cell_type": "code",
   "execution_count": null,
   "id": "static-candle",
   "metadata": {},
   "outputs": [],
   "source": [
    "import findspark\n",
    "findspark.init(\"/home/saikiran/tools/spark\")"
   ]
  },
  {
   "cell_type": "code",
   "execution_count": 1,
   "id": "precise-genealogy",
   "metadata": {},
   "outputs": [],
   "source": [
    "import pyspark\n",
    "import pandas as pd"
   ]
  },
  {
   "cell_type": "code",
   "execution_count": null,
   "id": "stylish-clock",
   "metadata": {},
   "outputs": [],
   "source": [
    "conf = pyspark.SparkConf().setMaster('spark://localhost:7077').setAppName(\"Big Data Visualization\").set(\"spark.sql.execution.arrow.pyspark.enabled\", \"true\").set('spark.executor.memory','10g').set('spark.driver.memory','20g').set(\"spark.driver.maxResultSize\",0)\n",
    "# .set(\"spark.executor.memory\", \"20GB\").set(\"spark.driver.memory\", \"9g\")\n",
    "# .set(\"spark.shuffle.service.enabled\", \"false\")\n",
    "# .set(\"spark.dynamicAllocation.enabled\", \"false\")"
   ]
  },
  {
   "cell_type": "code",
   "execution_count": null,
   "id": "homeless-halloween",
   "metadata": {},
   "outputs": [],
   "source": [
    "sc = pyspark.SparkContext()\n",
    "sc.setLogLevel('ERROR')"
   ]
  },
  {
   "cell_type": "code",
   "execution_count": null,
   "id": "labeled-trade",
   "metadata": {},
   "outputs": [],
   "source": [
    "sql = pyspark.SQLContext(sc)"
   ]
  },
  {
   "cell_type": "code",
   "execution_count": null,
   "id": "reserved-hybrid",
   "metadata": {},
   "outputs": [],
   "source": [
    "df = sql.read.csv(\"./feb03.csv\", sep='\\t', header = True)"
   ]
  },
  {
   "cell_type": "code",
   "execution_count": 2,
   "id": "distributed-diabetes",
   "metadata": {},
   "outputs": [],
   "source": [
    "pdf = pd.read_csv(\"./feb03.csv\", sep='\\t',error_bad_lines=False,parse_dates=[['date', 'hour']])"
   ]
  },
  {
   "cell_type": "code",
   "execution_count": 3,
   "id": "finished-parish",
   "metadata": {},
   "outputs": [
    {
     "data": {
      "text/plain": [
       "Index(['date_hour', 'lat', 'long', 'signal', 'network', 'operator', 'status',\n",
       "       'description', 'net', 'speed', 'satellites', 'precission', 'provider',\n",
       "       'activity', 'downloadSpeed', 'uploadSpeed', 'postal_code', 'town_name',\n",
       "       'position_geom'],\n",
       "      dtype='object')"
      ]
     },
     "execution_count": 3,
     "metadata": {},
     "output_type": "execute_result"
    }
   ],
   "source": [
    "pdf.columns"
   ]
  },
  {
   "cell_type": "code",
   "execution_count": null,
   "id": "rural-england",
   "metadata": {},
   "outputs": [],
   "source": [
    "df.show(5,False)"
   ]
  },
  {
   "cell_type": "code",
   "execution_count": null,
   "id": "returning-aggregate",
   "metadata": {},
   "outputs": [],
   "source": [
    "print(sc._conf.get('spark.driver.memory'))"
   ]
  },
  {
   "cell_type": "code",
   "execution_count": null,
   "id": "detailed-respect",
   "metadata": {},
   "outputs": [],
   "source": [
    "from arcgis.gis import GIS\n",
    "my_gis = GIS()\n",
    "m = my_gis.map(\"Catalonia\")\n",
    "# m.time_slider=True"
   ]
  },
  {
   "cell_type": "code",
   "execution_count": null,
   "id": "alpha-recruitment",
   "metadata": {},
   "outputs": [],
   "source": [
    "pdf.head()"
   ]
  },
  {
   "cell_type": "code",
   "execution_count": 4,
   "id": "dominican-porcelain",
   "metadata": {},
   "outputs": [
    {
     "name": "stdout",
     "output_type": "stream",
     "text": [
      "<class 'pandas.core.frame.DataFrame'>\n",
      "RangeIndex: 11744914 entries, 0 to 11744913\n",
      "Data columns (total 19 columns):\n",
      " #   Column         Dtype         \n",
      "---  ------         -----         \n",
      " 0   date_hour      datetime64[ns]\n",
      " 1   lat            float64       \n",
      " 2   long           float64       \n",
      " 3   signal         int64         \n",
      " 4   network        object        \n",
      " 5   operator       object        \n",
      " 6   status         int64         \n",
      " 7   description    object        \n",
      " 8   net            object        \n",
      " 9   speed          float64       \n",
      " 10  satellites     float64       \n",
      " 11  precission     float64       \n",
      " 12  provider       object        \n",
      " 13  activity       object        \n",
      " 14  downloadSpeed  float64       \n",
      " 15  uploadSpeed    float64       \n",
      " 16  postal_code    float64       \n",
      " 17  town_name      object        \n",
      " 18  position_geom  object        \n",
      "dtypes: datetime64[ns](1), float64(8), int64(2), object(8)\n",
      "memory usage: 1.7+ GB\n"
     ]
    }
   ],
   "source": [
    "pdf.info()"
   ]
  },
  {
   "cell_type": "code",
   "execution_count": 9,
   "id": "useful-rwanda",
   "metadata": {},
   "outputs": [
    {
     "ename": "AttributeError",
     "evalue": "type object 'DataFrame' has no attribute 'spatial'",
     "output_type": "error",
     "traceback": [
      "\u001b[0;31m---------------------------------------------------------------------------\u001b[0m",
      "\u001b[0;31mAttributeError\u001b[0m                            Traceback (most recent call last)",
      "\u001b[0;32m<ipython-input-9-5f19101e8db1>\u001b[0m in \u001b[0;36m<module>\u001b[0;34m\u001b[0m\n\u001b[0;32m----> 1\u001b[0;31m \u001b[0mpdf\u001b[0m \u001b[0;34m=\u001b[0m \u001b[0mpd\u001b[0m\u001b[0;34m.\u001b[0m\u001b[0mDataFrame\u001b[0m\u001b[0;34m.\u001b[0m\u001b[0mspatial\u001b[0m\u001b[0;34m.\u001b[0m\u001b[0mfrom_xy\u001b[0m\u001b[0;34m(\u001b[0m\u001b[0mpdf\u001b[0m\u001b[0;34m[\u001b[0m\u001b[0;34m:\u001b[0m\u001b[0;36m100\u001b[0m\u001b[0;34m]\u001b[0m\u001b[0;34m,\u001b[0m \u001b[0mx_column\u001b[0m \u001b[0;34m=\u001b[0m \u001b[0;34m'long'\u001b[0m\u001b[0;34m,\u001b[0m \u001b[0my_column\u001b[0m \u001b[0;34m=\u001b[0m \u001b[0;34m'lat'\u001b[0m\u001b[0;34m)\u001b[0m\u001b[0;34m\u001b[0m\u001b[0;34m\u001b[0m\u001b[0m\n\u001b[0m",
      "\u001b[0;31mAttributeError\u001b[0m: type object 'DataFrame' has no attribute 'spatial'"
     ]
    }
   ],
   "source": [
    "pdf = pd.DataFrame.spatial.from_xy(pdf[:100], x_column = 'long', y_column = 'lat')"
   ]
  },
  {
   "cell_type": "code",
   "execution_count": 5,
   "id": "accompanied-victorian",
   "metadata": {},
   "outputs": [
    {
     "data": {
      "text/html": [
       "<div>\n",
       "<style scoped>\n",
       "    .dataframe tbody tr th:only-of-type {\n",
       "        vertical-align: middle;\n",
       "    }\n",
       "\n",
       "    .dataframe tbody tr th {\n",
       "        vertical-align: top;\n",
       "    }\n",
       "\n",
       "    .dataframe thead th {\n",
       "        text-align: right;\n",
       "    }\n",
       "</style>\n",
       "<table border=\"1\" class=\"dataframe\">\n",
       "  <thead>\n",
       "    <tr style=\"text-align: right;\">\n",
       "      <th></th>\n",
       "      <th>date_hour</th>\n",
       "      <th>lat</th>\n",
       "      <th>long</th>\n",
       "      <th>signal</th>\n",
       "      <th>network</th>\n",
       "      <th>operator</th>\n",
       "      <th>status</th>\n",
       "      <th>description</th>\n",
       "      <th>net</th>\n",
       "      <th>speed</th>\n",
       "      <th>satellites</th>\n",
       "      <th>precission</th>\n",
       "      <th>provider</th>\n",
       "      <th>activity</th>\n",
       "      <th>downloadSpeed</th>\n",
       "      <th>uploadSpeed</th>\n",
       "      <th>postal_code</th>\n",
       "      <th>town_name</th>\n",
       "      <th>position_geom</th>\n",
       "    </tr>\n",
       "  </thead>\n",
       "  <tbody>\n",
       "    <tr>\n",
       "      <th>0</th>\n",
       "      <td>2017-12-10 13:03:12</td>\n",
       "      <td>41.29152</td>\n",
       "      <td>2.07456</td>\n",
       "      <td>10</td>\n",
       "      <td>simyo 3g</td>\n",
       "      <td>simyo</td>\n",
       "      <td>0</td>\n",
       "      <td>STATE_IN_SERVICE</td>\n",
       "      <td>NaN</td>\n",
       "      <td>0.2</td>\n",
       "      <td>10.0</td>\n",
       "      <td>15.0</td>\n",
       "      <td>gps</td>\n",
       "      <td>STILL</td>\n",
       "      <td>NaN</td>\n",
       "      <td>NaN</td>\n",
       "      <td>81691.0</td>\n",
       "      <td>el Prat de Llobregat</td>\n",
       "      <td>POINT(2.07456 41.29152)</td>\n",
       "    </tr>\n",
       "    <tr>\n",
       "      <th>11744913</th>\n",
       "      <td>2015-08-26 21:54:33</td>\n",
       "      <td>42.26376</td>\n",
       "      <td>3.01868</td>\n",
       "      <td>6</td>\n",
       "      <td>movistar</td>\n",
       "      <td>Movistar</td>\n",
       "      <td>2</td>\n",
       "      <td>STATE_EMERGENCY_ONLY</td>\n",
       "      <td>3G</td>\n",
       "      <td>0.8</td>\n",
       "      <td>6.0</td>\n",
       "      <td>32.0</td>\n",
       "      <td>gps</td>\n",
       "      <td>STILL</td>\n",
       "      <td>NaN</td>\n",
       "      <td>NaN</td>\n",
       "      <td>172305.0</td>\n",
       "      <td>Vila-sacra</td>\n",
       "      <td>POINT(3.01868 42.26376)</td>\n",
       "    </tr>\n",
       "  </tbody>\n",
       "</table>\n",
       "</div>"
      ],
      "text/plain": [
       "                   date_hour       lat     long  signal   network  operator  \\\n",
       "0        2017-12-10 13:03:12  41.29152  2.07456      10  simyo 3g     simyo   \n",
       "11744913 2015-08-26 21:54:33  42.26376  3.01868       6  movistar  Movistar   \n",
       "\n",
       "          status           description  net  speed  satellites  precission  \\\n",
       "0              0      STATE_IN_SERVICE  NaN    0.2        10.0        15.0   \n",
       "11744913       2  STATE_EMERGENCY_ONLY   3G    0.8         6.0        32.0   \n",
       "\n",
       "         provider activity  downloadSpeed  uploadSpeed  postal_code  \\\n",
       "0             gps    STILL            NaN          NaN      81691.0   \n",
       "11744913      gps    STILL            NaN          NaN     172305.0   \n",
       "\n",
       "                     town_name            position_geom  \n",
       "0         el Prat de Llobregat  POINT(2.07456 41.29152)  \n",
       "11744913            Vila-sacra  POINT(3.01868 42.26376)  "
      ]
     },
     "execution_count": 5,
     "metadata": {},
     "output_type": "execute_result"
    }
   ],
   "source": [
    "pdf.iloc[[0,-1]]"
   ]
  },
  {
   "cell_type": "code",
   "execution_count": null,
   "id": "wired-discipline",
   "metadata": {},
   "outputs": [],
   "source": [
    "m.time_slider=True\n",
    "m.set_time_extent(pdf['date_hour'].iloc[0],pdf['date_hour'].iloc[-1],unit=\"minutes\")\n",
    "m.time_mode=\"instant\""
   ]
  },
  {
   "cell_type": "code",
   "execution_count": null,
   "id": "divine-citizenship",
   "metadata": {},
   "outputs": [],
   "source": [
    "# Plot dataframe\n",
    "pdf.spatial.plot(map_widget= m)"
   ]
  },
  {
   "cell_type": "code",
   "execution_count": null,
   "id": "accepted-recorder",
   "metadata": {},
   "outputs": [],
   "source": [
    "m"
   ]
  },
  {
   "cell_type": "code",
   "execution_count": null,
   "id": "charming-balloon",
   "metadata": {},
   "outputs": [],
   "source": [
    "sc.stop()"
   ]
  },
  {
   "cell_type": "code",
   "execution_count": 6,
   "id": "distant-diagram",
   "metadata": {},
   "outputs": [
    {
     "name": "stdout",
     "output_type": "stream",
     "text": [
      "User Guide: https://docs.kepler.gl/docs/keplergl-jupyter\n"
     ]
    }
   ],
   "source": [
    "from keplergl import KeplerGl\n",
    "map_1 = KeplerGl(height=600)"
   ]
  },
  {
   "cell_type": "code",
   "execution_count": 7,
   "id": "imperial-drinking",
   "metadata": {},
   "outputs": [],
   "source": [
    "map_1.add_data(data=pdf[:1174490], name='data_1')"
   ]
  },
  {
   "cell_type": "code",
   "execution_count": 10,
   "id": "color-coaching",
   "metadata": {
    "scrolled": false
   },
   "outputs": [
    {
     "data": {
      "application/vnd.jupyter.widget-view+json": {
       "model_id": "e3e9240ea47d40839f8e53f3caf2997c",
       "version_major": 2,
       "version_minor": 0
      },
      "text/plain": [
       "KeplerGl(config={'version': 'v1', 'config': {'visState': {'filters': [], 'layers': [{'id': '8b9i33', 'type': '…"
      ]
     },
     "metadata": {},
     "output_type": "display_data"
    }
   ],
   "source": [
    "map_1"
   ]
  },
  {
   "cell_type": "code",
   "execution_count": null,
   "id": "moderate-timer",
   "metadata": {},
   "outputs": [],
   "source": []
  }
 ],
 "metadata": {
  "kernelspec": {
   "display_name": "Python 3",
   "language": "python",
   "name": "python3"
  },
  "language_info": {
   "codemirror_mode": {
    "name": "ipython",
    "version": 3
   },
   "file_extension": ".py",
   "mimetype": "text/x-python",
   "name": "python",
   "nbconvert_exporter": "python",
   "pygments_lexer": "ipython3",
   "version": "3.7.9"
  }
 },
 "nbformat": 4,
 "nbformat_minor": 5
}